{
 "cells": [
  {
   "cell_type": "code",
   "execution_count": 4,
   "metadata": {},
   "outputs": [],
   "source": [
    "from generate_example import generate_multilevel_params_and_data\n",
    "from numpyro_models import numpyro_multilevel_model\n",
    "\n",
    "import jax\n",
    "from numpyro.infer import MCMC, NUTS"
   ]
  },
  {
   "cell_type": "code",
   "execution_count": 5,
   "metadata": {},
   "outputs": [],
   "source": [
    "# Example usage\n",
    "seed = 0  # Replace with your seed value\n",
    "params, data = generate_multilevel_params_and_data(seed)  # This would generate the parameters and data."
   ]
  },
  {
   "cell_type": "code",
   "execution_count": 6,
   "metadata": {},
   "outputs": [
    {
     "name": "stderr",
     "output_type": "stream",
     "text": [
      "/var/folders/h1/m7g5q5f14_g920p6bjb5zfmw0000gn/T/ipykernel_24446/3639758926.py:3: UserWarning: There are not enough devices to run parallel chains: expected 4 but got 1. Chains will be drawn sequentially. If you are running MCMC in CPU, consider using `numpyro.set_host_device_count(4)` at the beginning of your program. You can double-check how many devices are available in your system using `jax.local_device_count()`.\n",
      "  mcmc = MCMC(nuts_kernel, num_warmup=2000, num_samples=2000, num_chains=4)\n",
      "sample: 100%|██████████| 4000/4000 [00:02<00:00, 1521.53it/s, 15 steps of size 3.00e-01. acc. prob=0.90]\n",
      "sample: 100%|██████████| 4000/4000 [00:02<00:00, 1512.55it/s, 15 steps of size 2.94e-01. acc. prob=0.90]\n",
      "sample: 100%|██████████| 4000/4000 [00:02<00:00, 1514.16it/s, 7 steps of size 2.91e-01. acc. prob=0.88] \n",
      "sample: 100%|██████████| 4000/4000 [00:02<00:00, 1497.77it/s, 7 steps of size 3.06e-01. acc. prob=0.89] \n"
     ]
    }
   ],
   "source": [
    "nuts_kernel = NUTS(numpyro_multilevel_model)\n",
    "\n",
    "mcmc = MCMC(nuts_kernel, num_warmup=2000, num_samples=2000, num_chains=4)    \n",
    "\n",
    "mcmc.run(jax.random.PRNGKey(0), data=data, n_clients=5, n_obs_per_client=100)"
   ]
  },
  {
   "cell_type": "code",
   "execution_count": null,
   "metadata": {},
   "outputs": [],
   "source": [
    "mcmc.print_summary()\n"
   ]
  }
 ],
 "metadata": {
  "kernelspec": {
   "display_name": "pymc_data_augmentation",
   "language": "python",
   "name": "python3"
  },
  "language_info": {
   "codemirror_mode": {
    "name": "ipython",
    "version": 3
   },
   "file_extension": ".py",
   "mimetype": "text/x-python",
   "name": "python",
   "nbconvert_exporter": "python",
   "pygments_lexer": "ipython3",
   "version": "3.11.5"
  },
  "orig_nbformat": 4
 },
 "nbformat": 4,
 "nbformat_minor": 2
}
