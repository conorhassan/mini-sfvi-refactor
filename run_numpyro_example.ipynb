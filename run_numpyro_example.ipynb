{
 "cells": [
  {
   "cell_type": "code",
   "execution_count": 4,
   "metadata": {},
   "outputs": [],
   "source": [
    "from generate_example import generate_multilevel_params_and_data\n",
    "from numpyro_models import numpyro_multilevel_model\n",
    "\n",
    "import jax\n",
    "from numpyro.infer import MCMC, NUTS"
   ]
  },
  {
   "cell_type": "code",
   "execution_count": 5,
   "metadata": {},
   "outputs": [],
   "source": [
    "# Example usage\n",
    "seed = 0  # Replace with your seed value\n",
    "params, data = generate_multilevel_params_and_data(seed)  # This would generate the parameters and data."
   ]
  },
  {
   "cell_type": "code",
   "execution_count": 6,
   "metadata": {},
   "outputs": [
    {
     "name": "stderr",
     "output_type": "stream",
     "text": [
      "/var/folders/h1/m7g5q5f14_g920p6bjb5zfmw0000gn/T/ipykernel_24446/3639758926.py:3: UserWarning: There are not enough devices to run parallel chains: expected 4 but got 1. Chains will be drawn sequentially. If you are running MCMC in CPU, consider using `numpyro.set_host_device_count(4)` at the beginning of your program. You can double-check how many devices are available in your system using `jax.local_device_count()`.\n",
      "  mcmc = MCMC(nuts_kernel, num_warmup=2000, num_samples=2000, num_chains=4)\n",
      "sample: 100%|██████████| 4000/4000 [00:02<00:00, 1521.53it/s, 15 steps of size 3.00e-01. acc. prob=0.90]\n",
      "sample: 100%|██████████| 4000/4000 [00:02<00:00, 1512.55it/s, 15 steps of size 2.94e-01. acc. prob=0.90]\n",
      "sample: 100%|██████████| 4000/4000 [00:02<00:00, 1514.16it/s, 7 steps of size 2.91e-01. acc. prob=0.88] \n",
      "sample: 100%|██████████| 4000/4000 [00:02<00:00, 1497.77it/s, 7 steps of size 3.06e-01. acc. prob=0.89] \n"
     ]
    }
   ],
   "source": [
    "nuts_kernel = NUTS(numpyro_multilevel_model)\n",
    "\n",
    "mcmc = MCMC(nuts_kernel, num_warmup=2000, num_samples=2000, num_chains=4)    \n",
    "\n",
    "mcmc.run(jax.random.PRNGKey(0), data=data, n_clients=5, n_obs_per_client=100)"
   ]
  },
  {
   "cell_type": "code",
   "execution_count": 7,
   "metadata": {},
   "outputs": [
    {
     "name": "stdout",
     "output_type": "stream",
     "text": [
      "\n",
      "                mean       std    median      5.0%     95.0%     n_eff     r_hat\n",
      "     b0[0]      0.74      0.00      0.74      0.74      0.75   5902.37      1.00\n",
      "     b0[1]      0.86      0.00      0.86      0.85      0.86   7096.49      1.00\n",
      "     b0[2]      0.80      0.00      0.80      0.79      0.80   6631.18      1.00\n",
      "     b0[3]      0.68      0.00      0.68      0.67      0.68   6790.31      1.00\n",
      "     b0[4]      0.78      0.00      0.78      0.77      0.78   7373.60      1.00\n",
      "     b1[0]     -0.25      0.00     -0.25     -0.25     -0.25   9125.07      1.00\n",
      "     b1[1]     -0.16      0.00     -0.16     -0.16     -0.15  10112.36      1.00\n",
      "     b1[2]     -0.24      0.00     -0.24     -0.24     -0.24  11797.09      1.00\n",
      "     b1[3]     -0.35      0.00     -0.35     -0.35     -0.34   9824.18      1.00\n",
      "     b1[4]     -0.20      0.00     -0.20     -0.20     -0.19   9998.72      1.00\n",
      "     b2[0]      0.06      0.00      0.06      0.05      0.07   6393.56      1.00\n",
      "     b2[1]     -0.06      0.00     -0.06     -0.07     -0.06   6899.22      1.00\n",
      "     b2[2]      0.32      0.00      0.32      0.31      0.32   6821.11      1.00\n",
      "     b2[3]      0.46      0.00      0.46      0.46      0.47   6855.04      1.00\n",
      "     b2[4]      0.23      0.00      0.23      0.22      0.24   7322.54      1.00\n",
      "      mu_0      0.77      0.05      0.77      0.69      0.85   2390.75      1.00\n",
      "      mu_1     -0.24      0.06     -0.24     -0.32     -0.15   1727.78      1.00\n",
      "      mu_2      0.20      0.15      0.20     -0.04      0.42   4065.25      1.00\n",
      "   sigma_0      0.10      0.07      0.08      0.04      0.17   2328.16      1.00\n",
      "   sigma_1      0.11      0.07      0.09      0.04      0.19   1757.88      1.00\n",
      "   sigma_2      0.31      0.16      0.26      0.12      0.50   3097.26      1.00\n",
      "\n",
      "Number of divergences: 0\n"
     ]
    }
   ],
   "source": [
    "mcmc.print_summary()\n"
   ]
  }
 ],
 "metadata": {
  "kernelspec": {
   "display_name": "pymc_data_augmentation",
   "language": "python",
   "name": "python3"
  },
  "language_info": {
   "codemirror_mode": {
    "name": "ipython",
    "version": 3
   },
   "file_extension": ".py",
   "mimetype": "text/x-python",
   "name": "python",
   "nbconvert_exporter": "python",
   "pygments_lexer": "ipython3",
   "version": "3.11.5"
  },
  "orig_nbformat": 4
 },
 "nbformat": 4,
 "nbformat_minor": 2
}
